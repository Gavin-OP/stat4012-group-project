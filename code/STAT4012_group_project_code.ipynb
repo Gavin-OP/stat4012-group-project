{
 "cells": [
  {
   "attachments": {},
   "cell_type": "markdown",
   "id": "8b8187e9",
   "metadata": {},
   "source": [
    "# STAT4012 Group Project\n",
    "- The file is used to test the code for the project.  \n",
    "- It should be written with **clear comments** and **explanations** on each sections of the code.  \n",
    "- If there are some other modules that need to be imported or run in this file, you can use %load filename.py to load the code from the file. use %run filename.py to run the code from the file.  "
   ]
  },
  {
   "cell_type": "code",
   "execution_count": 13,
   "id": "9671bdaf",
   "metadata": {},
   "outputs": [],
   "source": [
    "# import libraries\n",
    "# all the libraries are imported here but not below\n",
    "import pandas as pd\n",
    "import matplotlib.pyplot as plt\n",
    "import numpy as np"
   ]
  },
  {
   "cell_type": "code",
   "execution_count": 14,
   "id": "b3ab2bb7",
   "metadata": {},
   "outputs": [],
   "source": [
    "data = pd.read_excel('../data/raw_data_adjusted.xlsx',index_col=0).dropna(how='any')\n",
    "data.sort_values(by='date',ascending=True,inplace=True)"
   ]
  },
  {
   "attachments": {},
   "cell_type": "markdown",
   "id": "f24e1b66",
   "metadata": {},
   "source": [
    "## 1.Preprocessing\n",
    "\n",
    "### 1.1 calculate 6th day's intraday return -> label"
   ]
  },
  {
   "cell_type": "code",
   "execution_count": 15,
   "id": "02a2ca5d",
   "metadata": {},
   "outputs": [
    {
     "data": {
      "text/plain": [
       "date\n",
       "2017-11-28    0.005632\n",
       "2017-11-29    0.043850\n",
       "2017-11-30   -0.002437\n",
       "2017-12-01    0.001688\n",
       "2017-12-04    0.045387\n",
       "                ...   \n",
       "2023-04-06         NaN\n",
       "2023-04-10         NaN\n",
       "2023-04-11         NaN\n",
       "2023-04-12         NaN\n",
       "2023-04-13         NaN\n",
       "Name: sixth_day_return, Length: 1352, dtype: float64"
      ]
     },
     "execution_count": 15,
     "metadata": {},
     "output_type": "execute_result"
    }
   ],
   "source": [
    "data['sixth_day_return'] = ((data['close'].shift(-5)-data['open'].shift(-5))/data['open'].shift(-5)).dropna(how='any')\n",
    "data['sixth_day_return']"
   ]
  },
  {
   "attachments": {},
   "cell_type": "markdown",
   "id": "cdb92065",
   "metadata": {},
   "source": [
    "### 1.2 mark golden cross point and death cross point"
   ]
  },
  {
   "cell_type": "code",
   "execution_count": 16,
   "id": "0e089203",
   "metadata": {},
   "outputs": [
    {
     "name": "stdout",
     "output_type": "stream",
     "text": [
      "            golden_cross  death_cross\n",
      "date                                 \n",
      "2017-11-29           0.0          0.0\n",
      "2017-11-30           0.0          0.0\n",
      "2017-12-01           0.0          0.0\n",
      "2017-12-04           0.0          0.0\n",
      "2017-12-05           0.0          0.0\n",
      "...                  ...          ...\n",
      "2023-03-30           0.0          0.0\n",
      "2023-03-31           0.0          0.0\n",
      "2023-04-03           0.0          0.0\n",
      "2023-04-04           0.0          0.0\n",
      "2023-04-05           0.0          0.0\n",
      "\n",
      "[1346 rows x 2 columns]\n"
     ]
    }
   ],
   "source": [
    "data['diff'] = np.sign(data[\"MA_5\"] - data[\"MA_25\"])\n",
    "data['signal'] = np.sign(data['diff'] - data['diff'].shift(1))\n",
    "data['golden_cross'] = data['signal'].map({1:1,0:0,-1:0})\n",
    "data['death_cross'] = data['signal'].map({-1:1,0:0,1:0})\n",
    "data = data.drop(columns=['diff','signal']).dropna(how='any')\n",
    "print(data[['golden_cross','death_cross']])"
   ]
  },
  {
   "attachments": {},
   "cell_type": "markdown",
   "id": "e6b79414",
   "metadata": {},
   "source": [
    "### 1.3 feature scaling: use normalization as extreme values are rare"
   ]
  },
  {
   "cell_type": "code",
   "execution_count": 17,
   "id": "4bb628de",
   "metadata": {},
   "outputs": [
    {
     "name": "stdout",
     "output_type": "stream",
     "text": [
      "<bound method NDFrame.head of                 open     close      high       low  daily_trading_value  \\\n",
      "date                                                                      \n",
      "2017-11-29  0.022734  0.021534  0.021775  0.021029             0.013371   \n",
      "2017-11-30  0.021276  0.021753  0.020565  0.021589             0.004283   \n",
      "2017-12-01  0.020755  0.021365  0.020502  0.021675             0.004137   \n",
      "2017-12-04  0.020932  0.021142  0.020161  0.020924             0.007211   \n",
      "2017-12-05  0.020180  0.020891  0.020117  0.020990             0.004788   \n",
      "...              ...       ...       ...       ...                  ...   \n",
      "2023-03-30  0.459460  0.460630  0.459853  0.463660             0.139262   \n",
      "2023-03-31  0.464342  0.491230  0.485870  0.470718             0.226156   \n",
      "2023-04-03  0.470301  0.459349  0.473184  0.458024             0.215995   \n",
      "2023-04-04  0.463816  0.453847  0.463372  0.453250             0.157554   \n",
      "2023-04-05  0.446778  0.436110  0.443313  0.436595             0.161195   \n",
      "\n",
      "            daily_trading_volume       UBB    BollMA       LBB      MA_5  ...  \\\n",
      "date                                                                      ...   \n",
      "2017-11-29              0.115420  0.208999  0.176513  0.332696  0.065602  ...   \n",
      "2017-11-30              0.040548  0.206401  0.167466  0.317459  0.062775  ...   \n",
      "2017-12-01              0.039553  0.132470  0.133314  0.425351  0.068013  ...   \n",
      "2017-12-04              0.065702  0.125946  0.126574  0.425833  0.074401  ...   \n",
      "2017-12-05              0.045549  0.124857  0.122521  0.418815  0.072888  ...   \n",
      "...                          ...       ...       ...       ...       ...  ...   \n",
      "2023-03-30              0.091390  0.161519  0.270028  0.681953  0.123343  ...   \n",
      "2023-03-31              0.159177  0.164783  0.272382  0.679242  0.141218  ...   \n",
      "2023-04-03              0.158412  0.169347  0.278471  0.682232  0.157430  ...   \n",
      "2023-04-04              0.109714  0.168520  0.275289  0.676649  0.166689  ...   \n",
      "2023-04-05              0.118100  0.167130  0.272642  0.673817  0.170092  ...   \n",
      "\n",
      "                MACD     sig_9    RSI_14    BollW   precent_B      BIAS  \\\n",
      "date                                                                      \n",
      "2017-11-29  0.261214  0.351142  0.388797  0.566257   0.415493  0.270833   \n",
      "2017-11-30  0.243982  0.341891  0.239253  0.595675   0.238222  0.102359   \n",
      "2017-12-01  0.230145  0.330558  0.237342  0.368644   0.218670  0.100745   \n",
      "2017-12-04  0.231962  0.322008  0.292743  0.362864   0.332195  0.164420   \n",
      "2017-12-05  0.224127  0.312942  0.249456  0.375594   0.256471  0.115812   \n",
      "...              ...       ...       ...       ...        ...       ...   \n",
      "2023-03-30  0.151754  0.196400  0.091172  0.062583   0.137049  0.137605   \n",
      "2023-03-31  0.181656  0.200386  0.392485  0.069260   0.550928  0.249151   \n",
      "2023-04-03  0.205566  0.210370  0.389036  0.072112   0.527217  0.247125   \n",
      "2023-04-04  0.201842  0.217299  0.187213  0.076332   0.247409  0.167779   \n",
      "2023-04-05  0.203506  0.223314  0.223356  0.077306   0.302340  0.183476   \n",
      "\n",
      "               ROC_1  sixth_day_return  golden_cross  death_cross  \n",
      "date                                                               \n",
      "2017-11-29  0.239417          0.601148           0.0          0.0  \n",
      "2017-11-30  0.037262          0.439132           0.0          0.0  \n",
      "2017-12-01  0.114978          0.453572           0.0          0.0  \n",
      "2017-12-04  0.174078          0.606526           0.0          0.0  \n",
      "2017-12-05  0.084821          0.559724           0.0          0.0  \n",
      "...              ...               ...           ...          ...  \n",
      "2023-03-30  0.099926          0.485518           0.0          0.0  \n",
      "2023-03-31  0.203357          0.536560           0.0          0.0  \n",
      "2023-04-03  0.116487          0.449539           0.0          0.0  \n",
      "2023-04-04  0.076829          0.260488           0.0          0.0  \n",
      "2023-04-05  0.126418          0.504006           0.0          0.0  \n",
      "\n",
      "[1346 rows x 21 columns]>\n"
     ]
    }
   ],
   "source": [
    "data = data.apply(lambda x: (x - np.min(x)) / (np.max(x) - np.min(x)))\n",
    "print(data.head)"
   ]
  },
  {
   "cell_type": "code",
   "execution_count": null,
   "id": "20775c2b",
   "metadata": {},
   "outputs": [],
   "source": []
  },
  {
   "attachments": {},
   "cell_type": "markdown",
   "id": "39c08a94",
   "metadata": {},
   "source": [
    "## 2.Feature Engineering"
   ]
  },
  {
   "attachments": {},
   "cell_type": "markdown",
   "id": "4601256e",
   "metadata": {},
   "source": [
    "### PCA "
   ]
  },
  {
   "attachments": {},
   "cell_type": "markdown",
   "id": "b201212e",
   "metadata": {},
   "source": [
    "## 3. Build Model\n",
    "\n",
    "### 3.0 hyperparameter tuning"
   ]
  },
  {
   "attachments": {},
   "cell_type": "markdown",
   "id": "321e0785",
   "metadata": {},
   "source": [
    "### 3.1 Convolutional layer & MLP  （实验组）"
   ]
  },
  {
   "cell_type": "code",
   "execution_count": 18,
   "id": "06209895",
   "metadata": {},
   "outputs": [],
   "source": [
    "from numpy import array\n",
    "from numpy import hstack\n",
    "from keras.models import Sequential\n",
    "from keras.layers import Dense\n",
    "from keras.layers import Flatten\n",
    "from keras.layers.convolutional import Conv1D\n",
    "from keras.layers.convolutional import MaxPooling1D"
   ]
  },
  {
   "cell_type": "code",
   "execution_count": 19,
   "id": "c35752eb",
   "metadata": {},
   "outputs": [],
   "source": [
    "# split a multivariate sequence into samples\n",
    "def split_sequences(sequences, n_steps):\n",
    "    X, y = list(), list()\n",
    "    for i in range(len(sequences)):\n",
    "        # find the end of this pattern\n",
    "        end_ix = i + n_steps\n",
    "        # check if we are beyond the dataset\n",
    "        if end_ix > len(sequences):\n",
    "            break\n",
    "    # gather input and output parts of the pattern\n",
    "        seq_x, seq_y = sequences[i:end_ix, :-1], sequences[end_ix - 1, -1]\n",
    "        X.append(seq_x)\n",
    "        y.append(seq_y)\n",
    "    return array(X), array(y)"
   ]
  },
  {
   "cell_type": "code",
   "execution_count": 23,
   "id": "0e541e4d",
   "metadata": {},
   "outputs": [
    {
     "name": "stdout",
     "output_type": "stream",
     "text": [
      "(1342, 5, 20) (1342,)\n"
     ]
    }
   ],
   "source": [
    "# choose a number of time steps\n",
    "n_steps = 5\n",
    "# convert into input/output\n",
    "X, y = split_sequences(data.to_numpy(), n_steps)\n",
    "print(X.shape, y.shape)\n"
   ]
  },
  {
   "cell_type": "code",
   "execution_count": 34,
   "id": "d23a2aa7",
   "metadata": {},
   "outputs": [],
   "source": [
    "# split for training set and testing set\n",
    "X_train, X_test = X[:1000,:,:],X[1000:,:,:]\n",
    "y_train, y_test = y[:1000],y[1000:]\n"
   ]
  },
  {
   "cell_type": "code",
   "execution_count": 26,
   "id": "30af8719",
   "metadata": {},
   "outputs": [
    {
     "data": {
      "text/plain": [
       "20"
      ]
     },
     "execution_count": 26,
     "metadata": {},
     "output_type": "execute_result"
    }
   ],
   "source": [
    "n_features = X.shape[2]\n",
    "n_features"
   ]
  },
  {
   "cell_type": "code",
   "execution_count": 27,
   "id": "59f089e2",
   "metadata": {},
   "outputs": [],
   "source": [
    "# define model\n",
    "model = Sequential()\n",
    "model.add(Conv1D(filters=64, kernel_size=2, activation='relu', input_shape=(n_steps, n_features)))\n",
    "model.add(MaxPooling1D(pool_size=2))\n",
    "model.add(Flatten())\n",
    "model.add(Dense(50, activation='relu'))\n",
    "model.add(Dense(1))\n",
    "model.compile(optimizer='adam', loss='mse')"
   ]
  },
  {
   "cell_type": "code",
   "execution_count": 35,
   "id": "ddb99500",
   "metadata": {},
   "outputs": [
    {
     "data": {
      "text/plain": [
       "<keras.callbacks.History at 0x1b8f5917ec8>"
      ]
     },
     "execution_count": 35,
     "metadata": {},
     "output_type": "execute_result"
    }
   ],
   "source": [
    "# fit model\n",
    "model.fit(X_train, y_train, epochs=1000, verbose=1)"
   ]
  },
  {
   "cell_type": "code",
   "execution_count": 38,
   "id": "3aa92096",
   "metadata": {},
   "outputs": [
    {
     "name": "stdout",
     "output_type": "stream",
     "text": [
      "11/11 [==============================] - 0s 1ms/step\n",
      "[[ 2.19094604e-02]\n",
      " [ 6.60218298e-03]\n",
      " [ 8.89711082e-03]\n",
      " [-6.58150017e-03]\n",
      " [ 4.60146368e-03]\n",
      " [-2.41778791e-03]\n",
      " [ 6.22861087e-03]\n",
      " [ 2.68338621e-03]\n",
      " [ 4.71566394e-02]\n",
      " [ 5.85018098e-03]\n",
      " [ 1.37078911e-02]\n",
      " [-7.33311474e-03]\n",
      " [-1.14382803e-03]\n",
      " [ 6.49707019e-03]\n",
      " [ 9.41607356e-03]\n",
      " [ 1.47939026e-02]\n",
      " [ 1.66282505e-02]\n",
      " [ 3.15901726e-01]\n",
      " [ 1.07730165e-01]\n",
      " [ 4.13168967e-03]\n",
      " [-3.86161357e-03]\n",
      " [ 8.12457502e-03]\n",
      " [-1.71574205e-03]\n",
      " [-6.11044466e-04]\n",
      " [ 1.88579977e-01]\n",
      " [ 6.38701245e-02]\n",
      " [ 1.75325125e-02]\n",
      " [-1.45632327e-01]\n",
      " [-1.44555718e-02]\n",
      " [ 8.26077908e-03]\n",
      " [-4.12901491e-03]\n",
      " [ 3.35633755e-04]\n",
      " [-7.23157078e-03]\n",
      " [-2.76416540e-06]\n",
      " [-3.80207598e-03]\n",
      " [ 1.81714520e-02]\n",
      " [ 1.14639103e-03]\n",
      " [ 2.77668238e-04]\n",
      " [ 4.22768712e-01]\n",
      " [-3.17627192e-03]\n",
      " [-6.53620064e-03]\n",
      " [-4.41937149e-03]\n",
      " [ 1.42366439e-03]\n",
      " [-5.82886487e-03]\n",
      " [-3.58064473e-03]\n",
      " [-7.66374171e-03]\n",
      " [-8.75477493e-03]\n",
      " [-1.26308352e-02]\n",
      " [ 1.66125804e-01]\n",
      " [ 7.23407626e-01]\n",
      " [ 8.72895867e-02]\n",
      " [-8.94589722e-03]\n",
      " [ 2.94597447e-03]\n",
      " [ 1.27886236e-03]\n",
      " [-1.44957006e-03]\n",
      " [-3.04786861e-03]\n",
      " [ 3.41385603e-05]\n",
      " [-1.86815858e-04]\n",
      " [-5.01923263e-03]\n",
      " [ 3.79045308e-03]\n",
      " [ 2.56933272e-03]\n",
      " [ 1.88546702e-02]\n",
      " [-1.99892670e-02]\n",
      " [ 1.81377307e-02]\n",
      " [ 6.61164522e-03]\n",
      " [ 1.68123841e-03]\n",
      " [ 2.49341130e-03]\n",
      " [ 1.36266947e-02]\n",
      " [ 1.02634460e-01]\n",
      " [ 8.27555358e-02]\n",
      " [ 2.64381915e-02]\n",
      " [ 6.15854636e-02]\n",
      " [ 5.56413084e-03]\n",
      " [ 1.23924166e-02]\n",
      " [ 4.15154546e-02]\n",
      " [ 7.31475800e-02]\n",
      " [ 4.26006317e-03]\n",
      " [ 1.23840868e-02]\n",
      " [ 1.10327601e-02]\n",
      " [ 9.12554860e-02]\n",
      " [ 1.56268477e-03]\n",
      " [-9.04098153e-04]\n",
      " [-2.89120525e-03]\n",
      " [-1.01563632e-02]\n",
      " [-2.40585953e-03]\n",
      " [ 4.22687829e-03]\n",
      " [ 4.14744653e-02]\n",
      " [-3.76053900e-03]\n",
      " [ 1.49237067e-02]\n",
      " [ 1.34469569e-03]\n",
      " [-3.24903280e-02]\n",
      " [-1.31739601e-02]\n",
      " [ 1.72918513e-02]\n",
      " [ 1.88933581e-01]\n",
      " [ 2.18361557e-01]\n",
      " [-3.64897698e-02]\n",
      " [-8.54995251e-02]\n",
      " [ 6.42186403e-03]\n",
      " [ 1.84866786e-03]\n",
      " [ 1.10900849e-02]\n",
      " [ 1.34050101e-02]\n",
      " [ 6.62207603e-04]\n",
      " [-9.13559645e-02]\n",
      " [ 1.28843263e-02]\n",
      " [ 1.38135254e-03]\n",
      " [ 4.49329615e-04]\n",
      " [ 9.08297300e-03]\n",
      " [ 1.58858299e-03]\n",
      " [-4.64492291e-03]\n",
      " [-6.94786757e-03]\n",
      " [-5.81513345e-03]\n",
      " [-2.88210064e-03]\n",
      " [ 1.34641975e-02]\n",
      " [ 1.04162097e-03]\n",
      " [ 2.73415446e-03]\n",
      " [ 8.32544267e-03]\n",
      " [ 4.78006899e-04]\n",
      " [-1.87661499e-03]\n",
      " [-7.81235099e-03]\n",
      " [-7.71708786e-03]\n",
      " [ 4.63385880e-03]\n",
      " [ 3.52827549e-01]\n",
      " [ 1.94101140e-01]\n",
      " [ 2.04549730e-02]\n",
      " [ 1.75202042e-02]\n",
      " [-3.25071812e-03]\n",
      " [ 1.30880386e-01]\n",
      " [ 5.19817233e-01]\n",
      " [ 1.82656944e-03]\n",
      " [ 3.59837532e-01]\n",
      " [ 2.60547519e-01]\n",
      " [-4.79879230e-03]\n",
      " [ 4.81961846e-01]\n",
      " [-7.49485195e-03]\n",
      " [ 9.39709321e-02]\n",
      " [ 3.73174250e-01]\n",
      " [ 1.98221013e-01]\n",
      " [ 9.52379853e-02]\n",
      " [ 2.48161852e-02]\n",
      " [ 4.48158383e-03]\n",
      " [ 8.53028744e-02]\n",
      " [-5.17230481e-03]\n",
      " [-3.87895852e-03]\n",
      " [-3.33286077e-03]\n",
      " [-6.40552491e-03]\n",
      " [-5.98953664e-03]\n",
      " [-7.81907141e-03]\n",
      " [ 2.29389980e-01]\n",
      " [ 2.98587143e-01]\n",
      " [ 2.60438800e-01]\n",
      " [ 4.27255780e-02]\n",
      " [ 7.07547367e-03]\n",
      " [-2.96026468e-03]\n",
      " [ 9.23576951e-02]\n",
      " [ 1.24782026e-02]\n",
      " [ 2.69149244e-03]\n",
      " [ 2.86639258e-02]\n",
      " [ 6.59848824e-02]\n",
      " [ 5.17870784e-01]\n",
      " [ 4.34836745e-01]\n",
      " [-2.04042792e-02]\n",
      " [ 1.91246718e-02]\n",
      " [ 7.00650215e-02]\n",
      " [ 7.18794763e-03]\n",
      " [ 2.09680796e-02]\n",
      " [-1.10211298e-02]\n",
      " [ 4.25301492e-03]\n",
      " [-1.79026127e-02]\n",
      " [ 2.16282308e-01]\n",
      " [ 4.24736738e-03]\n",
      " [ 1.31769627e-02]\n",
      " [ 1.00874640e-01]\n",
      " [-4.39013541e-03]\n",
      " [-7.11794198e-03]\n",
      " [-1.00014061e-02]\n",
      " [ 8.81249756e-02]\n",
      " [ 1.74344465e-01]\n",
      " [-3.45855951e-04]\n",
      " [-2.80785561e-03]\n",
      " [ 1.53392419e-01]\n",
      " [ 1.08281672e-02]\n",
      " [ 7.91100115e-02]\n",
      " [ 3.05756778e-02]\n",
      " [-1.35565847e-02]\n",
      " [ 1.56962126e-02]\n",
      " [-5.04471362e-03]\n",
      " [-9.73157585e-03]\n",
      " [ 4.07204032e-04]\n",
      " [ 1.74884498e-03]\n",
      " [-8.06942582e-04]\n",
      " [-1.35375559e-03]\n",
      " [-1.85705721e-03]\n",
      " [-1.74894929e-04]\n",
      " [-6.37337565e-04]\n",
      " [-1.40026212e-04]\n",
      " [ 4.79479134e-03]\n",
      " [-4.30767238e-03]\n",
      " [-4.87446785e-04]\n",
      " [ 7.35186040e-03]\n",
      " [ 1.19590759e-03]\n",
      " [ 2.48412788e-03]\n",
      " [-2.73348913e-02]\n",
      " [ 1.42116547e-02]\n",
      " [-1.29439309e-02]\n",
      " [-2.08120048e-03]\n",
      " [-2.03230232e-03]\n",
      " [-8.38635117e-03]\n",
      " [-3.84832919e-03]\n",
      " [-3.67386639e-03]\n",
      " [-7.05227256e-03]\n",
      " [-4.92878258e-03]\n",
      " [-3.21852416e-03]\n",
      " [ 2.14263797e-03]\n",
      " [-5.55902719e-03]\n",
      " [-3.39350104e-03]\n",
      " [-7.99164176e-04]\n",
      " [-1.67293847e-03]\n",
      " [-5.83408773e-03]\n",
      " [-6.87862188e-03]\n",
      " [-6.64877892e-03]\n",
      " [ 5.72130084e-04]\n",
      " [ 2.87252665e-03]\n",
      " [ 5.25755435e-03]\n",
      " [-4.58851457e-04]\n",
      " [ 1.78064406e-03]\n",
      " [-3.23398411e-03]\n",
      " [-9.21264291e-04]\n",
      " [-1.52519345e-03]\n",
      " [-1.41485035e-03]\n",
      " [-3.76041234e-03]\n",
      " [-2.77324021e-03]\n",
      " [-5.22738695e-03]\n",
      " [-1.00010857e-02]\n",
      " [-1.37506872e-02]\n",
      " [ 2.47875884e-01]\n",
      " [ 4.32501249e-02]\n",
      " [ 2.22667009e-02]\n",
      " [ 1.70767754e-02]\n",
      " [ 9.06929374e-03]\n",
      " [-3.25969607e-03]\n",
      " [-2.18058676e-02]\n",
      " [-1.53753161e-03]\n",
      " [-5.26599586e-04]\n",
      " [-5.36443293e-03]\n",
      " [-7.02641904e-03]\n",
      " [-5.34403324e-03]\n",
      " [-1.85778737e-03]\n",
      " [ 2.38202572e-01]\n",
      " [ 3.39415729e-01]\n",
      " [ 1.83349922e-01]\n",
      " [ 5.92984706e-02]\n",
      " [ 7.20188022e-04]\n",
      " [ 7.79757649e-03]\n",
      " [ 3.08020711e-02]\n",
      " [ 2.08802670e-02]\n",
      " [ 6.18892163e-02]\n",
      " [ 1.18958205e-01]\n",
      " [-5.55005670e-03]\n",
      " [-8.35465640e-03]\n",
      " [ 4.69803363e-02]\n",
      " [ 1.72770023e-03]\n",
      " [ 5.78085557e-02]\n",
      " [ 2.37017721e-02]\n",
      " [ 1.76293820e-01]\n",
      " [-3.41814011e-03]\n",
      " [ 1.03603303e-03]\n",
      " [-6.11079484e-03]\n",
      " [-8.73957574e-03]\n",
      " [-8.91681015e-03]\n",
      " [-6.47254288e-03]\n",
      " [-5.75342774e-03]\n",
      " [-5.56007028e-03]\n",
      " [-6.08199835e-03]\n",
      " [-1.00500137e-02]\n",
      " [-9.86038148e-03]\n",
      " [-6.32695854e-03]\n",
      " [-5.76572120e-03]\n",
      " [-1.07519478e-02]\n",
      " [-7.47181475e-03]\n",
      " [-8.32436979e-03]\n",
      " [-7.38625228e-03]\n",
      " [-5.56108356e-03]\n",
      " [-4.47537005e-03]\n",
      " [-1.89056993e-03]\n",
      " [ 3.33201662e-02]\n",
      " [ 6.19920850e-01]\n",
      " [ 6.14796937e-01]\n",
      " [ 3.55940223e-01]\n",
      " [ 1.68329895e-01]\n",
      " [ 1.83615088e-03]\n",
      " [ 3.86909664e-01]\n",
      " [ 8.21405351e-01]\n",
      " [ 8.70544016e-02]\n",
      " [ 4.15439159e-03]\n",
      " [-3.02399099e-02]\n",
      " [ 4.01374698e-03]\n",
      " [-5.16961515e-03]\n",
      " [-8.59066844e-03]\n",
      " [-5.41459024e-03]\n",
      " [ 1.39114901e-01]\n",
      " [-1.14001334e-04]\n",
      " [-2.84872651e-02]\n",
      " [-1.98762268e-02]\n",
      " [ 9.65770781e-01]\n",
      " [ 2.84086525e-01]\n",
      " [-3.62900645e-03]\n",
      " [ 1.53292656e-01]\n",
      " [ 9.03804719e-01]\n",
      " [ 1.93214953e-01]\n",
      " [ 1.75215676e-02]\n",
      " [ 3.12753022e-02]\n",
      " [-5.16815335e-02]\n",
      " [ 7.57883117e-02]\n",
      " [ 1.64106727e-01]\n",
      " [ 1.07231885e-02]\n",
      " [-3.30880284e-04]\n",
      " [-1.52185559e-04]\n",
      " [ 5.24200499e-03]\n",
      " [ 6.16517663e-03]\n",
      " [ 9.47774947e-03]\n",
      " [ 8.95611942e-03]\n",
      " [ 3.61555815e-03]\n",
      " [ 3.31336260e-03]\n",
      " [ 3.63184512e-03]\n",
      " [ 4.73250449e-03]\n",
      " [ 7.16006756e-03]\n",
      " [ 6.44147396e-03]\n",
      " [ 4.99615073e-02]\n",
      " [ 4.92128730e-03]\n",
      " [ 4.19025123e-03]\n",
      " [ 5.42916358e-03]\n",
      " [ 4.18695807e-03]\n",
      " [ 6.19135797e-03]\n",
      " [ 9.20481980e-03]\n",
      " [ 8.02583992e-03]\n",
      " [ 7.14804232e-03]\n",
      " [ 4.64387238e-03]\n",
      " [ 1.92789733e-03]\n",
      " [ 4.83812392e-03]\n",
      " [-3.35950404e-03]\n",
      " [ 7.34750926e-03]\n",
      " [-1.61552057e-02]]\n"
     ]
    }
   ],
   "source": [
    "# demonstrate prediction\n",
    "y_pred = model.predict(X_test, verbose=1)\n",
    "print(y_pred)"
   ]
  },
  {
   "attachments": {},
   "cell_type": "markdown",
   "id": "fab7b9bf",
   "metadata": {},
   "source": [
    "#### Model evaluation"
   ]
  },
  {
   "cell_type": "code",
   "execution_count": 42,
   "id": "ed545638",
   "metadata": {},
   "outputs": [
    {
     "name": "stdout",
     "output_type": "stream",
     "text": [
      "11/11 [==============================] - 0s 1ms/step - loss: 7.6684e-09 - accuracy: 0.9415\n"
     ]
    },
    {
     "data": {
      "text/plain": [
       "[7.668434776064714e-09, 0.9415204524993896]"
      ]
     },
     "execution_count": 42,
     "metadata": {},
     "output_type": "execute_result"
    }
   ],
   "source": [
    "from keras import losses\n",
    "model.compile(loss='categorical_crossentropy',\n",
    "              optimizer='sgd',\n",
    "              metrics=['accuracy'])\n",
    "model.evaluate(X_test,y_test)"
   ]
  },
  {
   "attachments": {},
   "cell_type": "markdown",
   "id": "3db390a0",
   "metadata": {},
   "source": [
    "### 3.2 Attention-based LSTM model （实验组）\n",
    "structure: data -> LSTM layer -> Attention layer -> Dense layer -> prediction"
   ]
  },
  {
   "attachments": {},
   "cell_type": "markdown",
   "id": "eecf1461",
   "metadata": {},
   "source": [
    "### 3.3 Simple LSTM （对照组1）"
   ]
  },
  {
   "attachments": {},
   "cell_type": "markdown",
   "id": "019e923d",
   "metadata": {},
   "source": [
    "### 3.4 ARIMA model（对照组2）"
   ]
  },
  {
   "attachments": {},
   "cell_type": "markdown",
   "id": "dd9db3ff",
   "metadata": {},
   "source": [
    "## 4. Model Evaluation\n",
    "\n",
    "### 4.1 MSE, scores\n",
    "### 4.2 Back-testing"
   ]
  }
 ],
 "metadata": {
  "kernelspec": {
   "display_name": "Python 3",
   "language": "python",
   "name": "python3"
  },
  "language_info": {
   "codemirror_mode": {
    "name": "ipython",
    "version": 3
   },
   "file_extension": ".py",
   "mimetype": "text/x-python",
   "name": "python",
   "nbconvert_exporter": "python",
   "pygments_lexer": "ipython3",
   "version": "3.7.13"
  }
 },
 "nbformat": 4,
 "nbformat_minor": 5
}
