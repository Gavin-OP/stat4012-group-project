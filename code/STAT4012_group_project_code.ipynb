{
 "cells": [
  {
   "attachments": {},
   "cell_type": "markdown",
   "id": "8b8187e9",
   "metadata": {},
   "source": [
    "# STAT4012 Group Project\n",
    "- The file is used to test the code for the project.  \n",
    "- It should be written with **clear comments** and **explanations** on each sections of the code.  \n",
    "- If there are some other modules that need to be imported or run in this file, you can use %load filename.py to load the code from the file. use %run filename.py to run the code from the file.  "
   ]
  },
  {
   "cell_type": "code",
   "execution_count": null,
   "id": "9671bdaf",
   "metadata": {},
   "outputs": [],
   "source": [
    "# import libraries\n",
    "# all the libraries are imported here but not below\n",
    "import pandas as pd\n",
    "import matplotlib.pyplot as plt\n",
    "import numpy as np"
   ]
  },
  {
   "cell_type": "code",
   "execution_count": null,
   "id": "b3ab2bb7",
   "metadata": {},
   "outputs": [],
   "source": [
    "data = pd.read_excel('../data/raw_data_adjusted.xlsx',index_col=0).dropna(how='any')\n",
    "data.sort_values(by='date',ascending=True,inplace=True)"
   ]
  },
  {
   "attachments": {},
   "cell_type": "markdown",
   "id": "f24e1b66",
   "metadata": {},
   "source": [
    "## 1.Preprocessing\n",
    "\n",
    "### 1.1 calculate 6th day's intraday return -> label"
   ]
  },
  {
   "cell_type": "code",
   "execution_count": null,
   "id": "02a2ca5d",
   "metadata": {},
   "outputs": [
    {
     "data": {
      "text/plain": [
       "date\n",
       "2017-11-28    0.005632\n",
       "2017-11-29    0.043850\n",
       "2017-11-30   -0.002437\n",
       "2017-12-01    0.001688\n",
       "2017-12-04    0.045387\n",
       "                ...   \n",
       "2023-04-06         NaN\n",
       "2023-04-10         NaN\n",
       "2023-04-11         NaN\n",
       "2023-04-12         NaN\n",
       "2023-04-13         NaN\n",
       "Name: sixth_day_return, Length: 1352, dtype: float64"
      ]
     },
     "execution_count": 46,
     "metadata": {},
     "output_type": "execute_result"
    }
   ],
   "source": [
    "data['sixth_day_return'] = ((data['close'].shift(-5)-data['open'].shift(-5))/data['open'].shift(-5)).dropna(how='any')\n",
    "data['sixth_day_return']"
   ]
  },
  {
   "attachments": {},
   "cell_type": "markdown",
   "id": "cdb92065",
   "metadata": {},
   "source": [
    "### 1.2 mark golden cross point and death cross point"
   ]
  },
  {
   "cell_type": "code",
   "execution_count": null,
   "id": "0e089203",
   "metadata": {},
   "outputs": [
    {
     "name": "stdout",
     "output_type": "stream",
     "text": [
      "            golden_cross  death_cross\n",
      "date                                 \n",
      "2017-11-29           0.0          0.0\n",
      "2017-11-30           0.0          0.0\n",
      "2017-12-01           0.0          0.0\n",
      "2017-12-04           0.0          0.0\n",
      "2017-12-05           0.0          0.0\n",
      "...                  ...          ...\n",
      "2023-03-30           0.0          0.0\n",
      "2023-03-31           0.0          0.0\n",
      "2023-04-03           0.0          0.0\n",
      "2023-04-04           0.0          0.0\n",
      "2023-04-05           0.0          0.0\n",
      "\n",
      "[1346 rows x 2 columns]\n"
     ]
    }
   ],
   "source": [
    "data['diff'] = np.sign(data[\"MA_5\"] - data[\"MA_25\"])\n",
    "data['signal'] = np.sign(data['diff'] - data['diff'].shift(1))\n",
    "data['golden_cross'] = data['signal'].map({1:1,0:0,-1:0})\n",
    "data['death_cross'] = data['signal'].map({-1:1,0:0,1:0})\n",
    "data = data.drop(columns=['diff','signal']).dropna(how='any')\n",
    "print(data[['golden_cross','death_cross']])"
   ]
  },
  {
   "attachments": {},
   "cell_type": "markdown",
   "id": "e6b79414",
   "metadata": {},
   "source": [
    "### 1.3 feature scaling: use normalization as extreme values are rare"
   ]
  },
  {
   "cell_type": "code",
   "execution_count": null,
   "id": "4bb628de",
   "metadata": {},
   "outputs": [
    {
     "name": "stdout",
     "output_type": "stream",
     "text": [
      "<bound method NDFrame.head of                 open     close      high       low  daily_trading_value  \\\n",
      "date                                                                      \n",
      "2017-11-29  0.022734  0.021534  0.021775  0.021029             0.013371   \n",
      "2017-11-30  0.021276  0.021753  0.020565  0.021589             0.004283   \n",
      "2017-12-01  0.020755  0.021365  0.020502  0.021675             0.004137   \n",
      "2017-12-04  0.020932  0.021142  0.020161  0.020924             0.007211   \n",
      "2017-12-05  0.020180  0.020891  0.020117  0.020990             0.004788   \n",
      "...              ...       ...       ...       ...                  ...   \n",
      "2023-03-30  0.459460  0.460630  0.459853  0.463660             0.139262   \n",
      "2023-03-31  0.464342  0.491230  0.485870  0.470718             0.226156   \n",
      "2023-04-03  0.470301  0.459349  0.473184  0.458024             0.215995   \n",
      "2023-04-04  0.463816  0.453847  0.463372  0.453250             0.157554   \n",
      "2023-04-05  0.446778  0.436110  0.443313  0.436595             0.161195   \n",
      "\n",
      "            daily_trading_volume       UBB    BollMA       LBB      MA_5  ...  \\\n",
      "date                                                                      ...   \n",
      "2017-11-29              0.115420  0.208999  0.176513  0.332696  0.065602  ...   \n",
      "2017-11-30              0.040548  0.206401  0.167466  0.317459  0.062775  ...   \n",
      "2017-12-01              0.039553  0.132470  0.133314  0.425351  0.068013  ...   \n",
      "2017-12-04              0.065702  0.125946  0.126574  0.425833  0.074401  ...   \n",
      "2017-12-05              0.045549  0.124857  0.122521  0.418815  0.072888  ...   \n",
      "...                          ...       ...       ...       ...       ...  ...   \n",
      "2023-03-30              0.091390  0.161519  0.270028  0.681953  0.123343  ...   \n",
      "2023-03-31              0.159177  0.164783  0.272382  0.679242  0.141218  ...   \n",
      "2023-04-03              0.158412  0.169347  0.278471  0.682232  0.157430  ...   \n",
      "2023-04-04              0.109714  0.168520  0.275289  0.676649  0.166689  ...   \n",
      "2023-04-05              0.118100  0.167130  0.272642  0.673817  0.170092  ...   \n",
      "\n",
      "                MACD     sig_9    RSI_14    BollW   precent_B      BIAS  \\\n",
      "date                                                                      \n",
      "2017-11-29  0.261214  0.351142  0.388797  0.566257   0.415493  0.270833   \n",
      "2017-11-30  0.243982  0.341891  0.239253  0.595675   0.238222  0.102359   \n",
      "2017-12-01  0.230145  0.330558  0.237342  0.368644   0.218670  0.100745   \n",
      "2017-12-04  0.231962  0.322008  0.292743  0.362864   0.332195  0.164420   \n",
      "2017-12-05  0.224127  0.312942  0.249456  0.375594   0.256471  0.115812   \n",
      "...              ...       ...       ...       ...        ...       ...   \n",
      "2023-03-30  0.151754  0.196400  0.091172  0.062583   0.137049  0.137605   \n",
      "2023-03-31  0.181656  0.200386  0.392485  0.069260   0.550928  0.249151   \n",
      "2023-04-03  0.205566  0.210370  0.389036  0.072112   0.527217  0.247125   \n",
      "2023-04-04  0.201842  0.217299  0.187213  0.076332   0.247409  0.167779   \n",
      "2023-04-05  0.203506  0.223314  0.223356  0.077306   0.302340  0.183476   \n",
      "\n",
      "               ROC_1  sixth_day_return  golden_cross  death_cross  \n",
      "date                                                               \n",
      "2017-11-29  0.239417          0.601148           0.0          0.0  \n",
      "2017-11-30  0.037262          0.439132           0.0          0.0  \n",
      "2017-12-01  0.114978          0.453572           0.0          0.0  \n",
      "2017-12-04  0.174078          0.606526           0.0          0.0  \n",
      "2017-12-05  0.084821          0.559724           0.0          0.0  \n",
      "...              ...               ...           ...          ...  \n",
      "2023-03-30  0.099926          0.485518           0.0          0.0  \n",
      "2023-03-31  0.203357          0.536560           0.0          0.0  \n",
      "2023-04-03  0.116487          0.449539           0.0          0.0  \n",
      "2023-04-04  0.076829          0.260488           0.0          0.0  \n",
      "2023-04-05  0.126418          0.504006           0.0          0.0  \n",
      "\n",
      "[1346 rows x 21 columns]>\n"
     ]
    }
   ],
   "source": [
    "data = data.apply(lambda x: (x - np.min(x)) / (np.max(x) - np.min(x)))\n",
    "print(data.head)"
   ]
  },
  {
   "attachments": {},
   "cell_type": "markdown",
   "id": "39c08a94",
   "metadata": {},
   "source": [
    "## 2.Feature Engineering"
   ]
  },
  {
   "attachments": {},
   "cell_type": "markdown",
   "id": "4601256e",
   "metadata": {},
   "source": [
    "### PCA "
   ]
  },
  {
   "attachments": {},
   "cell_type": "markdown",
   "id": "b201212e",
   "metadata": {},
   "source": [
    "## 3. Build Model\n",
    "\n",
    "### 3.0 hyperparameter tuning"
   ]
  },
  {
   "attachments": {},
   "cell_type": "markdown",
   "id": "321e0785",
   "metadata": {},
   "source": [
    "### 3.1 Convolutional layer & MLP  （实验组）"
   ]
  },
  {
   "cell_type": "code",
   "execution_count": null,
   "id": "06209895",
   "metadata": {},
   "outputs": [],
   "source": [
    "from numpy import array\n",
    "from numpy import hstack\n",
    "from keras.models import Sequential\n",
    "from keras.layers import Dense\n",
    "from keras.layers import Flatten\n",
    "from keras.layers.convolutional import Conv1D\n",
    "from keras.layers.convolutional import MaxPooling1D"
   ]
  },
  {
   "cell_type": "code",
   "execution_count": null,
   "id": "c35752eb",
   "metadata": {},
   "outputs": [],
   "source": [
    "# split a multivariate sequence into samples\n",
    "def split_sequences(sequences, n_steps):\n",
    "    X, y = list(), list()\n",
    "    for i in range(len(sequences)):\n",
    "        # find the end of this pattern\n",
    "        end_ix = i + n_steps\n",
    "        # check if we are beyond the dataset\n",
    "        if end_ix > len(sequences):\n",
    "            break\n",
    "    # gather input and output parts of the pattern\n",
    "        seq_x, seq_y = sequences[i:end_ix, :-1], sequences[end_ix - 1, -1]\n",
    "        X.append(seq_x)\n",
    "        y.append(seq_y)\n",
    "    return array(X), array(y)"
   ]
  },
  {
   "cell_type": "code",
   "execution_count": null,
   "id": "0e541e4d",
   "metadata": {},
   "outputs": [
    {
     "name": "stdout",
     "output_type": "stream",
     "text": [
      "(1342, 5, 20) (1342,)\n"
     ]
    }
   ],
   "source": [
    "# choose a number of time steps\n",
    "n_steps = 5\n",
    "# convert into input/output\n",
    "X, y = split_sequences(data.to_numpy(), n_steps)\n",
    "print(X.shape, y.shape)\n"
   ]
  },
  {
   "cell_type": "code",
   "execution_count": null,
   "id": "d23a2aa7",
   "metadata": {},
   "outputs": [],
   "source": [
    "# split for training set and testing set\n",
    "X_train, X_test = X[:1000,:,:],X[1000:,:,:]\n",
    "y_train, y_test = y[:1000],y[1000:]\n"
   ]
  },
  {
   "cell_type": "code",
   "execution_count": null,
   "id": "30af8719",
   "metadata": {},
   "outputs": [
    {
     "data": {
      "text/plain": [
       "20"
      ]
     },
     "execution_count": 26,
     "metadata": {},
     "output_type": "execute_result"
    }
   ],
   "source": [
    "n_features = X.shape[2]\n",
    "n_features"
   ]
  },
  {
   "cell_type": "code",
   "execution_count": null,
   "id": "59f089e2",
   "metadata": {},
   "outputs": [],
   "source": [
    "# define model\n",
    "model = Sequential()\n",
    "model.add(Conv1D(filters=64, kernel_size=2, activation='relu', input_shape=(n_steps, n_features)))\n",
    "model.add(MaxPooling1D(pool_size=2))\n",
    "model.add(Flatten())\n",
    "model.add(Dense(50, activation='relu'))\n",
    "model.add(Dense(1))\n",
    "model.compile(optimizer='adam', loss='mse')"
   ]
  },
  {
   "cell_type": "code",
   "execution_count": null,
   "id": "ddb99500",
   "metadata": {},
   "outputs": [
    {
     "data": {
      "text/plain": [
       "<keras.callbacks.History at 0x1b8f5917ec8>"
      ]
     },
     "execution_count": 35,
     "metadata": {},
     "output_type": "execute_result"
    }
   ],
   "source": [
    "# fit model\n",
    "model.fit(X_train, y_train, epochs=1000, verbose=1)"
   ]
  },
  {
   "cell_type": "code",
   "execution_count": null,
   "id": "3aa92096",
   "metadata": {},
   "outputs": [
    {
     "name": "stdout",
     "output_type": "stream",
     "text": [
      "11/11 [==============================] - 0s 2ms/step\n"
     ]
    }
   ],
   "source": [
    "# demonstrate prediction\n",
    "y_pred = model.predict(X_test, verbose=1)"
   ]
  },
  {
   "attachments": {},
   "cell_type": "markdown",
   "id": "fab7b9bf",
   "metadata": {},
   "source": [
    "#### Model evaluation"
   ]
  },
  {
   "cell_type": "code",
   "execution_count": null,
   "id": "ed545638",
   "metadata": {},
   "outputs": [
    {
     "name": "stdout",
     "output_type": "stream",
     "text": [
      "11/11 [==============================] - 0s 1ms/step - loss: 7.6684e-09 - accuracy: 0.9415\n"
     ]
    },
    {
     "data": {
      "text/plain": [
       "[7.668434776064714e-09, 0.9415204524993896]"
      ]
     },
     "execution_count": 42,
     "metadata": {},
     "output_type": "execute_result"
    }
   ],
   "source": [
    "from keras import losses\n",
    "model.compile(loss='categorical_crossentropy',\n",
    "              optimizer='sgd',\n",
    "              metrics=['accuracy'])\n",
    "model.evaluate(X_test,y_test)"
   ]
  },
  {
   "attachments": {},
   "cell_type": "markdown",
   "id": "3db390a0",
   "metadata": {},
   "source": [
    "### 3.2 Attention-based LSTM model （实验组）\n",
    "structure: data -> LSTM layer -> Attention layer -> Dense layer -> prediction"
   ]
  },
  {
   "attachments": {},
   "cell_type": "markdown",
   "id": "eecf1461",
   "metadata": {},
   "source": [
    "### 3.3 Simple LSTM （对照组1）"
   ]
  },
  {
   "attachments": {},
   "cell_type": "markdown",
   "id": "019e923d",
   "metadata": {},
   "source": [
    "### 3.4 ARIMA model（对照组2）"
   ]
  },
  {
   "cell_type": "code",
   "execution_count": null,
   "id": "851b39e6",
   "metadata": {},
   "outputs": [],
   "source": [
    "y_train = data['sixth_day_return'].iloc[:1000]\n",
    "y_test = data['sixth_day_return'].iloc[1000:]"
   ]
  },
  {
   "cell_type": "code",
   "execution_count": null,
   "id": "6abd8921",
   "metadata": {},
   "outputs": [
    {
     "data": {
      "text/plain": [
       "[<matplotlib.lines.Line2D at 0x1b8f91d5bc8>]"
      ]
     },
     "execution_count": 50,
     "metadata": {},
     "output_type": "execute_result"
    },
    {
     "data": {
      "image/png": "[encoded data removed]",
      "text/plain": [
       "<Figure size 640x480 with 1 Axes>"
      ]
     },
     "metadata": {},
     "output_type": "display_data"
    }
   ],
   "source": [
    "# check stationary\n",
    "plt.plot(y_train)   # looks good"
   ]
  },
  {
   "cell_type": "code",
   "execution_count": null,
   "id": "24542fd7",
   "metadata": {},
   "outputs": [
    {
     "name": "stdout",
     "output_type": "stream",
     "text": [
      "(-18.365401616832568, 2.2232380434515225e-30, 2, 997, {'1%': -3.4369259442540416, '5%': -2.8644432969122833, '10%': -2.5683158550174094}, -1575.5132998572062)\n"
     ]
    }
   ],
   "source": [
    "# ADF test\n",
    "from statsmodels.tsa.stattools import adfuller\n",
    "result = adfuller(y_train) \n",
    "print(result)  # p-value = 2e-30 -> stationary"
   ]
  },
  {
   "cell_type": "code",
   "execution_count": null,
   "id": "9afa0053",
   "metadata": {},
   "outputs": [
    {
     "name": "stdout",
     "output_type": "stream",
     "text": [
      "Performing stepwise search to minimize aic\n",
      " ARIMA(2,0,2)(0,0,0)[0] intercept   : AIC=-1619.715, Time=0.89 sec\n",
      " ARIMA(0,0,0)(0,0,0)[0] intercept   : AIC=-1607.259, Time=0.18 sec\n",
      " ARIMA(1,0,0)(0,0,0)[0] intercept   : AIC=-1612.583, Time=0.10 sec\n",
      " ARIMA(0,0,1)(0,0,0)[0] intercept   : AIC=-1613.815, Time=0.23 sec\n",
      " ARIMA(0,0,0)(0,0,0)[0]             : AIC=1311.748, Time=0.10 sec\n",
      " ARIMA(1,0,2)(0,0,0)[0] intercept   : AIC=-1616.758, Time=0.90 sec\n",
      " ARIMA(2,0,1)(0,0,0)[0] intercept   : AIC=-1618.642, Time=1.10 sec\n",
      " ARIMA(3,0,2)(0,0,0)[0] intercept   : AIC=-1617.666, Time=1.28 sec\n",
      " ARIMA(2,0,3)(0,0,0)[0] intercept   : AIC=-1617.763, Time=1.57 sec\n",
      " ARIMA(1,0,1)(0,0,0)[0] intercept   : AIC=-1613.411, Time=0.79 sec\n",
      " ARIMA(1,0,3)(0,0,0)[0] intercept   : AIC=-1617.041, Time=1.36 sec\n",
      " ARIMA(3,0,1)(0,0,0)[0] intercept   : AIC=-1618.518, Time=1.78 sec\n",
      " ARIMA(3,0,3)(0,0,0)[0] intercept   : AIC=-1615.710, Time=1.84 sec\n",
      " ARIMA(2,0,2)(0,0,0)[0]             : AIC=inf, Time=2.51 sec\n",
      "\n",
      "Best model:  ARIMA(2,0,2)(0,0,0)[0] intercept\n",
      "Total fit time: 14.655 seconds\n",
      "-1619.7153666300308\n"
     ]
    }
   ],
   "source": [
    "from pmdarima.arima import auto_arima\n",
    "\n",
    "model = auto_arima(y_train, trace=True, error_action='ignore', suppress_warnings=True)\n",
    "print(model.aic())"
   ]
  },
  {
   "cell_type": "code",
   "execution_count": null,
   "id": "c1bca727",
   "metadata": {},
   "outputs": [
    {
     "name": "stdout",
     "output_type": "stream",
     "text": [
      "                     Prediction\n",
      "date                           \n",
      "2021-11-18 00:00:00    0.457073\n",
      "2021-11-19 00:00:00    0.428441\n",
      "2021-11-22 00:00:00    0.464857\n",
      "2021-11-23 00:00:00    0.457904\n",
      "2021-11-24 00:00:00    0.444750\n",
      "...                         ...\n",
      "2023-03-31 00:00:00    0.453019\n",
      "2023-04-03 00:00:00    0.453019\n",
      "2023-04-04 00:00:00    0.453019\n",
      "2023-04-05 00:00:00    0.453019\n",
      "y_pred                 0.453019\n",
      "\n",
      "[347 rows x 1 columns]\n"
     ]
    },
    {
     "name": "stderr",
     "output_type": "stream",
     "text": [
      "c:\\Users\\Daphne\\CloudMusic\\123\\envs\\pandasLearning\\lib\\site-packages\\statsmodels\\tsa\\base\\tsa_model.py:843: ValueWarning: No supported index is available. Prediction results will be given with an integer index beginning at `start`.\n",
      "  data=self.data,\n"
     ]
    }
   ],
   "source": [
    "model.fit(y_train)\n",
    "\n",
    "y_pred = model.predict(n_periods=len(y_test))\n",
    "forecast = pd.DataFrame(y_pred.values,index = y_test.index,columns=['Prediction'])\n",
    "print(forecast)"
   ]
  },
  {
   "cell_type": "code",
   "execution_count": null,
   "id": "6378cf09",
   "metadata": {},
   "outputs": [],
   "source": [
    "#plot the predictions for validation set\n",
    "plt.plot(y_train, label='Train',color='blue')\n",
    "plt.plot(y_test, label='Valid',color='black')\n",
    "plt.plot(forecast, label='Prediction',color='red')\n",
    "plt.show()"
   ]
  },
  {
   "cell_type": "code",
   "execution_count": null,
   "id": "e129d440",
   "metadata": {},
   "outputs": [],
   "source": [
    "# evaluate the model"
   ]
  },
  {
   "attachments": {},
   "cell_type": "markdown",
   "id": "dd9db3ff",
   "metadata": {},
   "source": [
    "## 4. Model Evaluation\n",
    "\n",
    "### 4.1 MSE, scores\n",
    "### 4.2 Back-testing"
   ]
  }
 ],
 "metadata": {
  "kernelspec": {
   "display_name": "Python 3",
   "language": "python",
   "name": "python3"
  },
  "language_info": {
   "codemirror_mode": {
    "name": "ipython",
    "version": 3
   },
   "file_extension": ".py",
   "mimetype": "text/x-python",
   "name": "python",
   "nbconvert_exporter": "python",
   "pygments_lexer": "ipython3",
   "version": "3.7.13"
  }
 },
 "nbformat": 4,
 "nbformat_minor": 5
}
