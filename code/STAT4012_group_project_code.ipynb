{
 "cells": [
  {
   "attachments": {},
   "cell_type": "markdown",
   "id": "8b8187e9",
   "metadata": {},
   "source": [
    "# STAT4012 Group Project\n",
    "> The file is used to test the code for the project.  \n",
    "> It should be written with clear comments and explanations on each sections of the code.  \n",
    "> If there are some other modules that need to be imported or run in this file, you can use %load filename.py to load the code from the file. use %run filename.py to run the code from the file.  "
   ]
  },
  {
   "cell_type": "code",
   "execution_count": 4,
   "id": "9671bdaf",
   "metadata": {},
   "outputs": [],
   "source": [
    "# import libraries\n",
    "# all the libraries are imported here but not below\n",
    "import pandas as pd\n",
    "import matplotlib.pyplot as plt\n",
    "import numpy as np\n"
   ]
  },
  {
   "cell_type": "code",
   "execution_count": 5,
   "id": "b3ab2bb7",
   "metadata": {},
   "outputs": [
    {
     "ename": "FileNotFoundError",
     "evalue": "[Errno 2] No such file or directory: '../data/fundamental_technical_raw_data.xlsx'",
     "output_type": "error",
     "traceback": [
      "\u001b[1;31m---------------------------------------------------------------------------\u001b[0m",
      "\u001b[1;31mFileNotFoundError\u001b[0m                         Traceback (most recent call last)",
      "Cell \u001b[1;32mIn[5], line 2\u001b[0m\n\u001b[0;32m      1\u001b[0m \u001b[39m# I would like to suggest using readable variable names such as raw_data_adjusted etc\u001b[39;00m\n\u001b[1;32m----> 2\u001b[0m data \u001b[39m=\u001b[39m pd\u001b[39m.\u001b[39;49mread_excel(\u001b[39m'\u001b[39;49m\u001b[39m../data/fundamental_technical_raw_data.xlsx\u001b[39;49m\u001b[39m'\u001b[39;49m,index_col\u001b[39m=\u001b[39;49m\u001b[39m0\u001b[39;49m)\u001b[39m.\u001b[39mdropna(how\u001b[39m=\u001b[39m\u001b[39m'\u001b[39m\u001b[39many\u001b[39m\u001b[39m'\u001b[39m)\n\u001b[0;32m      3\u001b[0m data\u001b[39m.\u001b[39msort_values(by\u001b[39m=\u001b[39m\u001b[39m'\u001b[39m\u001b[39mdate\u001b[39m\u001b[39m'\u001b[39m,ascending\u001b[39m=\u001b[39m\u001b[39mTrue\u001b[39;00m,inplace\u001b[39m=\u001b[39m\u001b[39mTrue\u001b[39;00m)\n",
      "File \u001b[1;32mc:\\Python311\\Lib\\site-packages\\pandas\\util\\_decorators.py:211\u001b[0m, in \u001b[0;36mdeprecate_kwarg.<locals>._deprecate_kwarg.<locals>.wrapper\u001b[1;34m(*args, **kwargs)\u001b[0m\n\u001b[0;32m    209\u001b[0m     \u001b[39melse\u001b[39;00m:\n\u001b[0;32m    210\u001b[0m         kwargs[new_arg_name] \u001b[39m=\u001b[39m new_arg_value\n\u001b[1;32m--> 211\u001b[0m \u001b[39mreturn\u001b[39;00m func(\u001b[39m*\u001b[39;49margs, \u001b[39m*\u001b[39;49m\u001b[39m*\u001b[39;49mkwargs)\n",
      "File \u001b[1;32mc:\\Python311\\Lib\\site-packages\\pandas\\util\\_decorators.py:331\u001b[0m, in \u001b[0;36mdeprecate_nonkeyword_arguments.<locals>.decorate.<locals>.wrapper\u001b[1;34m(*args, **kwargs)\u001b[0m\n\u001b[0;32m    325\u001b[0m \u001b[39mif\u001b[39;00m \u001b[39mlen\u001b[39m(args) \u001b[39m>\u001b[39m num_allow_args:\n\u001b[0;32m    326\u001b[0m     warnings\u001b[39m.\u001b[39mwarn(\n\u001b[0;32m    327\u001b[0m         msg\u001b[39m.\u001b[39mformat(arguments\u001b[39m=\u001b[39m_format_argument_list(allow_args)),\n\u001b[0;32m    328\u001b[0m         \u001b[39mFutureWarning\u001b[39;00m,\n\u001b[0;32m    329\u001b[0m         stacklevel\u001b[39m=\u001b[39mfind_stack_level(),\n\u001b[0;32m    330\u001b[0m     )\n\u001b[1;32m--> 331\u001b[0m \u001b[39mreturn\u001b[39;00m func(\u001b[39m*\u001b[39;49margs, \u001b[39m*\u001b[39;49m\u001b[39m*\u001b[39;49mkwargs)\n",
      "File \u001b[1;32mc:\\Python311\\Lib\\site-packages\\pandas\\io\\excel\\_base.py:482\u001b[0m, in \u001b[0;36mread_excel\u001b[1;34m(io, sheet_name, header, names, index_col, usecols, squeeze, dtype, engine, converters, true_values, false_values, skiprows, nrows, na_values, keep_default_na, na_filter, verbose, parse_dates, date_parser, thousands, decimal, comment, skipfooter, convert_float, mangle_dupe_cols, storage_options)\u001b[0m\n\u001b[0;32m    480\u001b[0m \u001b[39mif\u001b[39;00m \u001b[39mnot\u001b[39;00m \u001b[39misinstance\u001b[39m(io, ExcelFile):\n\u001b[0;32m    481\u001b[0m     should_close \u001b[39m=\u001b[39m \u001b[39mTrue\u001b[39;00m\n\u001b[1;32m--> 482\u001b[0m     io \u001b[39m=\u001b[39m ExcelFile(io, storage_options\u001b[39m=\u001b[39;49mstorage_options, engine\u001b[39m=\u001b[39;49mengine)\n\u001b[0;32m    483\u001b[0m \u001b[39melif\u001b[39;00m engine \u001b[39mand\u001b[39;00m engine \u001b[39m!=\u001b[39m io\u001b[39m.\u001b[39mengine:\n\u001b[0;32m    484\u001b[0m     \u001b[39mraise\u001b[39;00m \u001b[39mValueError\u001b[39;00m(\n\u001b[0;32m    485\u001b[0m         \u001b[39m\"\u001b[39m\u001b[39mEngine should not be specified when passing \u001b[39m\u001b[39m\"\u001b[39m\n\u001b[0;32m    486\u001b[0m         \u001b[39m\"\u001b[39m\u001b[39man ExcelFile - ExcelFile already has the engine set\u001b[39m\u001b[39m\"\u001b[39m\n\u001b[0;32m    487\u001b[0m     )\n",
      "File \u001b[1;32mc:\\Python311\\Lib\\site-packages\\pandas\\io\\excel\\_base.py:1652\u001b[0m, in \u001b[0;36mExcelFile.__init__\u001b[1;34m(self, path_or_buffer, engine, storage_options)\u001b[0m\n\u001b[0;32m   1650\u001b[0m     ext \u001b[39m=\u001b[39m \u001b[39m\"\u001b[39m\u001b[39mxls\u001b[39m\u001b[39m\"\u001b[39m\n\u001b[0;32m   1651\u001b[0m \u001b[39melse\u001b[39;00m:\n\u001b[1;32m-> 1652\u001b[0m     ext \u001b[39m=\u001b[39m inspect_excel_format(\n\u001b[0;32m   1653\u001b[0m         content_or_path\u001b[39m=\u001b[39;49mpath_or_buffer, storage_options\u001b[39m=\u001b[39;49mstorage_options\n\u001b[0;32m   1654\u001b[0m     )\n\u001b[0;32m   1655\u001b[0m     \u001b[39mif\u001b[39;00m ext \u001b[39mis\u001b[39;00m \u001b[39mNone\u001b[39;00m:\n\u001b[0;32m   1656\u001b[0m         \u001b[39mraise\u001b[39;00m \u001b[39mValueError\u001b[39;00m(\n\u001b[0;32m   1657\u001b[0m             \u001b[39m\"\u001b[39m\u001b[39mExcel file format cannot be determined, you must specify \u001b[39m\u001b[39m\"\u001b[39m\n\u001b[0;32m   1658\u001b[0m             \u001b[39m\"\u001b[39m\u001b[39man engine manually.\u001b[39m\u001b[39m\"\u001b[39m\n\u001b[0;32m   1659\u001b[0m         )\n",
      "File \u001b[1;32mc:\\Python311\\Lib\\site-packages\\pandas\\io\\excel\\_base.py:1525\u001b[0m, in \u001b[0;36minspect_excel_format\u001b[1;34m(content_or_path, storage_options)\u001b[0m\n\u001b[0;32m   1522\u001b[0m \u001b[39mif\u001b[39;00m \u001b[39misinstance\u001b[39m(content_or_path, \u001b[39mbytes\u001b[39m):\n\u001b[0;32m   1523\u001b[0m     content_or_path \u001b[39m=\u001b[39m BytesIO(content_or_path)\n\u001b[1;32m-> 1525\u001b[0m \u001b[39mwith\u001b[39;00m get_handle(\n\u001b[0;32m   1526\u001b[0m     content_or_path, \u001b[39m\"\u001b[39;49m\u001b[39mrb\u001b[39;49m\u001b[39m\"\u001b[39;49m, storage_options\u001b[39m=\u001b[39;49mstorage_options, is_text\u001b[39m=\u001b[39;49m\u001b[39mFalse\u001b[39;49;00m\n\u001b[0;32m   1527\u001b[0m ) \u001b[39mas\u001b[39;00m handle:\n\u001b[0;32m   1528\u001b[0m     stream \u001b[39m=\u001b[39m handle\u001b[39m.\u001b[39mhandle\n\u001b[0;32m   1529\u001b[0m     stream\u001b[39m.\u001b[39mseek(\u001b[39m0\u001b[39m)\n",
      "File \u001b[1;32mc:\\Python311\\Lib\\site-packages\\pandas\\io\\common.py:865\u001b[0m, in \u001b[0;36mget_handle\u001b[1;34m(path_or_buf, mode, encoding, compression, memory_map, is_text, errors, storage_options)\u001b[0m\n\u001b[0;32m    856\u001b[0m         handle \u001b[39m=\u001b[39m \u001b[39mopen\u001b[39m(\n\u001b[0;32m    857\u001b[0m             handle,\n\u001b[0;32m    858\u001b[0m             ioargs\u001b[39m.\u001b[39mmode,\n\u001b[1;32m   (...)\u001b[0m\n\u001b[0;32m    861\u001b[0m             newline\u001b[39m=\u001b[39m\u001b[39m\"\u001b[39m\u001b[39m\"\u001b[39m,\n\u001b[0;32m    862\u001b[0m         )\n\u001b[0;32m    863\u001b[0m     \u001b[39melse\u001b[39;00m:\n\u001b[0;32m    864\u001b[0m         \u001b[39m# Binary mode\u001b[39;00m\n\u001b[1;32m--> 865\u001b[0m         handle \u001b[39m=\u001b[39m \u001b[39mopen\u001b[39;49m(handle, ioargs\u001b[39m.\u001b[39;49mmode)\n\u001b[0;32m    866\u001b[0m     handles\u001b[39m.\u001b[39mappend(handle)\n\u001b[0;32m    868\u001b[0m \u001b[39m# Convert BytesIO or file objects passed with an encoding\u001b[39;00m\n",
      "\u001b[1;31mFileNotFoundError\u001b[0m: [Errno 2] No such file or directory: '../data/fundamental_technical_raw_data.xlsx'"
     ]
    }
   ],
   "source": [
    "# I would like to suggest using readable variable names such as raw_data_adjusted etc\n",
    "data = pd.read_excel('../data/fundamental_technical_raw_data.xlsx',index_col=0).dropna(how='any')\n",
    "data.sort_values(by='date',ascending=True,inplace=True)"
   ]
  },
  {
   "cell_type": "markdown",
   "id": "f24e1b66",
   "metadata": {},
   "source": [
    "## 1.Preprocessing\n",
    "\n",
    "### 1.1 calculate 6th day's intraday return -> label"
   ]
  },
  {
   "cell_type": "code",
   "execution_count": 5,
   "id": "02a2ca5d",
   "metadata": {},
   "outputs": [
    {
     "data": {
      "text/plain": [
       "date\n",
       "2017-11-28    0.005632\n",
       "2017-11-29    0.043850\n",
       "2017-11-30   -0.002437\n",
       "2017-12-01    0.001688\n",
       "2017-12-04    0.045387\n",
       "                ...   \n",
       "2023-03-30    0.010815\n",
       "2023-03-31    0.025397\n",
       "2023-04-03    0.000536\n",
       "2023-04-04   -0.053476\n",
       "2023-04-05    0.016097\n",
       "Length: 1347, dtype: float64"
      ]
     },
     "execution_count": 5,
     "metadata": {},
     "output_type": "execute_result"
    }
   ],
   "source": [
    "sixth_day_return = ((data['close'].shift(-5)-data['open'].shift(-5))/data['open'].shift(-5)).dropna(how='any')\n",
    "sixth_day_return"
   ]
  },
  {
   "cell_type": "markdown",
   "id": "cdb92065",
   "metadata": {},
   "source": [
    "### 1.2 mark golden cross point and death cross point"
   ]
  },
  {
   "cell_type": "code",
   "execution_count": 9,
   "id": "0e089203",
   "metadata": {},
   "outputs": [
    {
     "name": "stdout",
     "output_type": "stream",
     "text": [
      "            golden_cross  death_cross\n",
      "date                                 \n",
      "2017-11-30           0.0          0.0\n",
      "2017-12-01           0.0          0.0\n",
      "2017-12-04           0.0          0.0\n",
      "2017-12-05           0.0          0.0\n",
      "2017-12-06           0.0          0.0\n",
      "...                  ...          ...\n",
      "2023-04-06           0.0          0.0\n",
      "2023-04-10           0.0          0.0\n",
      "2023-04-11           0.0          0.0\n",
      "2023-04-12           0.0          0.0\n",
      "2023-04-13           0.0          0.0\n",
      "\n",
      "[1350 rows x 2 columns]\n"
     ]
    }
   ],
   "source": [
    "data['diff'] = np.sign(data[\"MA_5\"] - data[\"MA_25\"])\n",
    "data['signal'] = np.sign(data['diff'] - data['diff'].shift(1))\n",
    "data['golden_cross'] = data['signal'].map({1:1,0:0,-1:0})\n",
    "data['death_cross'] = data['signal'].map({-1:1,0:0,1:0})\n",
    "data = data.drop(columns=['diff','signal']).dropna(how='any')\n",
    "print(data[['golden_cross','death_cross']])"
   ]
  },
  {
   "cell_type": "markdown",
   "id": "e6b79414",
   "metadata": {},
   "source": [
    "### 1.3 feature scaling: use normalization as extreme values are rare"
   ]
  },
  {
   "cell_type": "code",
   "execution_count": 8,
   "id": "4bb628de",
   "metadata": {},
   "outputs": [
    {
     "name": "stdout",
     "output_type": "stream",
     "text": [
      "<bound method NDFrame.head of                 open     close      high       low  daily_trading_value  \\\n",
      "date                                                                      \n",
      "2017-11-29  0.022734  0.021534  0.021775  0.021029             0.013371   \n",
      "2017-11-30  0.021276  0.021753  0.020565  0.021589             0.004283   \n",
      "2017-12-01  0.020755  0.021365  0.020502  0.021675             0.004137   \n",
      "2017-12-04  0.020932  0.021142  0.020161  0.020924             0.007211   \n",
      "2017-12-05  0.020180  0.020891  0.020117  0.020990             0.004788   \n",
      "...              ...       ...       ...       ...                  ...   \n",
      "2023-04-06  0.428163  0.434954  0.432643  0.426389             0.147101   \n",
      "2023-04-10  0.420301  0.433573  0.429434  0.417172             0.166715   \n",
      "2023-04-11  0.437201  0.439301  0.439607  0.441387             0.139548   \n",
      "2023-04-12  0.447341  0.423599  0.445563  0.427836             0.179866   \n",
      "2023-04-13  0.427850  0.437065  0.432917  0.429435             0.134230   \n",
      "\n",
      "            daily_trading_volume       UBB    BollMA       LBB      MA_5  \\\n",
      "date                                                                       \n",
      "2017-11-29              0.115420  0.208999  0.176513  0.332696  0.065602   \n",
      "2017-11-30              0.040548  0.206401  0.167466  0.317459  0.062775   \n",
      "2017-12-01              0.039553  0.132470  0.133314  0.425351  0.068013   \n",
      "2017-12-04              0.065702  0.125946  0.126574  0.425833  0.074401   \n",
      "2017-12-05              0.045549  0.124857  0.122521  0.418815  0.072888   \n",
      "...                          ...       ...       ...       ...       ...   \n",
      "2023-04-06              0.106769  0.161997  0.265860  0.670613  0.174622   \n",
      "2023-04-10              0.127451  0.149068  0.258613  0.686390  0.165277   \n",
      "2023-04-11              0.097628  0.142876  0.250971  0.683830  0.147374   \n",
      "2023-04-12              0.136608  0.143972  0.251932  0.683333  0.155295   \n",
      "2023-04-13              0.094420  0.142599  0.247075  0.675097  0.148320   \n",
      "\n",
      "               MA_25      MACD     sig_9    RSI_14    BollW   precent_B  \\\n",
      "date                                                                      \n",
      "2017-11-29  0.174468  0.261214  0.351142  0.388797  0.566257   0.415493   \n",
      "2017-11-30  0.166610  0.243982  0.341891  0.239253  0.595675   0.238222   \n",
      "2017-12-01  0.165257  0.230145  0.330558  0.237342  0.368644   0.218670   \n",
      "2017-12-04  0.163137  0.231962  0.322008  0.292743  0.362864   0.332195   \n",
      "2017-12-05  0.163864  0.224127  0.312942  0.249456  0.375594   0.256471   \n",
      "...              ...       ...       ...       ...       ...        ...   \n",
      "2023-04-06  0.285924  0.200046  0.227144  0.178353  0.073982   0.248091   \n",
      "2023-04-10  0.284438  0.207751  0.232397  0.271826  0.041950   0.397306   \n",
      "2023-04-11  0.282916  0.200233  0.234463  0.151252  0.035793   0.198063   \n",
      "2023-04-12  0.283179  0.213409  0.239860  0.317666  0.037809   0.486003   \n",
      "2023-04-13  0.278368  0.204264  0.241579  0.158628  0.043854   0.190119   \n",
      "\n",
      "                BIAS     ROC_1  golden_cross  death_cross  \n",
      "date                                                       \n",
      "2017-11-29  0.270833  0.239417           0.0          0.0  \n",
      "2017-11-30  0.102359  0.037262           0.0          0.0  \n",
      "2017-12-01  0.100745  0.114978           0.0          0.0  \n",
      "2017-12-04  0.164420  0.174078           0.0          0.0  \n",
      "2017-12-05  0.115812  0.084821           0.0          0.0  \n",
      "...              ...       ...           ...          ...  \n",
      "2023-04-06  0.168237  0.105246           1.0          0.0  \n",
      "2023-04-10  0.204679  0.140538           0.0          1.0  \n",
      "2023-04-11  0.154110  0.087691           0.0          0.0  \n",
      "2023-04-12  0.221302  0.164345           0.0          0.0  \n",
      "2023-04-13  0.150910  0.077734           0.0          0.0  \n",
      "\n",
      "[1351 rows x 20 columns]>\n"
     ]
    }
   ],
   "source": [
    "data = data.apply(lambda x: (x - np.min(x)) / (np.max(x) - np.min(x)))\n",
    "print(data.head)"
   ]
  },
  {
   "cell_type": "markdown",
   "id": "39c08a94",
   "metadata": {},
   "source": [
    "## 2.Feature Engineering"
   ]
  },
  {
   "cell_type": "markdown",
   "id": "4601256e",
   "metadata": {},
   "source": [
    "### PCA "
   ]
  },
  {
   "cell_type": "markdown",
   "id": "b201212e",
   "metadata": {},
   "source": [
    "## 3. Build Model\n",
    "\n",
    "### 3.0 hyperparameter tuning"
   ]
  },
  {
   "cell_type": "markdown",
   "id": "3db390a0",
   "metadata": {},
   "source": [
    "### 3.1 Attention-based LSTM model （实验组）\n",
    "structure: data -> LSTM layer -> Attention layer -> Dense layer -> prediction"
   ]
  },
  {
   "cell_type": "markdown",
   "id": "321e0785",
   "metadata": {},
   "source": [
    "### 3.2 Convolutional layer & MLP  （实验组）"
   ]
  },
  {
   "cell_type": "markdown",
   "id": "eecf1461",
   "metadata": {},
   "source": [
    "### 3.3 Simple LSTM （对照组1）"
   ]
  },
  {
   "cell_type": "markdown",
   "id": "019e923d",
   "metadata": {},
   "source": [
    "### 3.4 ARIMA model（对照组2）"
   ]
  },
  {
   "cell_type": "markdown",
   "id": "dd9db3ff",
   "metadata": {},
   "source": [
    "## 4. Model Evaluation\n",
    "\n",
    "### 4.1 MSE, scores\n",
    "### 4.2 Back-testing"
   ]
  }
 ],
 "metadata": {
  "kernelspec": {
   "display_name": "Python 3",
   "language": "python",
   "name": "python3"
  },
  "language_info": {
   "codemirror_mode": {
    "name": "ipython",
    "version": 3
   },
   "file_extension": ".py",
   "mimetype": "text/x-python",
   "name": "python",
   "nbconvert_exporter": "python",
   "pygments_lexer": "ipython3",
   "version": "3.11.2"
  }
 },
 "nbformat": 4,
 "nbformat_minor": 5
}
