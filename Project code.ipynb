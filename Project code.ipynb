{
 "cells": [
  {
   "cell_type": "code",
   "execution_count": 1,
   "id": "9671bdaf",
   "metadata": {},
   "outputs": [],
   "source": [
    "import pandas as pd\n",
    "import matplotlib.pyplot as plt\n",
    "import numpy as np"
   ]
  },
  {
   "cell_type": "code",
   "execution_count": 10,
   "id": "b3ab2bb7",
   "metadata": {},
   "outputs": [],
   "source": [
    "data = pd.read_excel('../data/fundamental_technical_raw_data.xlsx',index_col=0).dropna(how='any')\n",
    "data.sort_values(by='date',ascending=True,inplace=True)"
   ]
  },
  {
   "cell_type": "markdown",
   "id": "f24e1b66",
   "metadata": {},
   "source": [
    "## 1.Preprocessing\n",
    "\n",
    "### 1.1 calculate 6th day's intraday return -> label"
   ]
  },
  {
   "cell_type": "code",
   "execution_count": 5,
   "id": "02a2ca5d",
   "metadata": {},
   "outputs": [
    {
     "data": {
      "text/plain": [
       "date\n",
       "2017-11-28    0.005632\n",
       "2017-11-29    0.043850\n",
       "2017-11-30   -0.002437\n",
       "2017-12-01    0.001688\n",
       "2017-12-04    0.045387\n",
       "                ...   \n",
       "2023-03-30    0.010815\n",
       "2023-03-31    0.025397\n",
       "2023-04-03    0.000536\n",
       "2023-04-04   -0.053476\n",
       "2023-04-05    0.016097\n",
       "Length: 1347, dtype: float64"
      ]
     },
     "execution_count": 5,
     "metadata": {},
     "output_type": "execute_result"
    }
   ],
   "source": [
    "sixth_day_return = ((data['close'].shift(-5)-data['open'].shift(-5))/data['open'].shift(-5)).dropna(how='any')\n",
    "sixth_day_return"
   ]
  },
  {
   "cell_type": "markdown",
   "id": "cdb92065",
   "metadata": {},
   "source": [
    "### 1.2 mark golden cross point and death cross point"
   ]
  },
  {
   "cell_type": "code",
   "execution_count": 9,
   "id": "0e089203",
   "metadata": {},
   "outputs": [
    {
     "name": "stdout",
     "output_type": "stream",
     "text": [
      "            golden_cross  death_cross\n",
      "date                                 \n",
      "2017-11-30           0.0          0.0\n",
      "2017-12-01           0.0          0.0\n",
      "2017-12-04           0.0          0.0\n",
      "2017-12-05           0.0          0.0\n",
      "2017-12-06           0.0          0.0\n",
      "...                  ...          ...\n",
      "2023-04-06           0.0          0.0\n",
      "2023-04-10           0.0          0.0\n",
      "2023-04-11           0.0          0.0\n",
      "2023-04-12           0.0          0.0\n",
      "2023-04-13           0.0          0.0\n",
      "\n",
      "[1350 rows x 2 columns]\n"
     ]
    }
   ],
   "source": [
    "data['diff'] = np.sign(data[\"MA_5\"] - data[\"MA_25\"])\n",
    "data['signal'] = np.sign(data['diff'] - data['diff'].shift(1))\n",
    "data['golden_cross'] = data['signal'].map({1:1,0:0,-1:0})\n",
    "data['death_cross'] = data['signal'].map({-1:1,0:0,1:0})\n",
    "data = data.drop(columns=['diff','signal']).dropna(how='any')\n",
    "print(data[['golden_cross','death_cross']])"
   ]
  },
  {
   "cell_type": "markdown",
   "id": "e6b79414",
   "metadata": {},
   "source": [
    "### 1.3 feature scaling: use normalization as extreme values are rare"
   ]
  },
  {
   "cell_type": "code",
   "execution_count": 8,
   "id": "4bb628de",
   "metadata": {},
   "outputs": [
    {
     "name": "stdout",
     "output_type": "stream",
     "text": [
      "<bound method NDFrame.head of                 open     close      high       low  daily_trading_value  \\\n",
      "date                                                                      \n",
      "2017-11-29  0.022734  0.021534  0.021775  0.021029             0.013371   \n",
      "2017-11-30  0.021276  0.021753  0.020565  0.021589             0.004283   \n",
      "2017-12-01  0.020755  0.021365  0.020502  0.021675             0.004137   \n",
      "2017-12-04  0.020932  0.021142  0.020161  0.020924             0.007211   \n",
      "2017-12-05  0.020180  0.020891  0.020117  0.020990             0.004788   \n",
      "...              ...       ...       ...       ...                  ...   \n",
      "2023-04-06  0.428163  0.434954  0.432643  0.426389             0.147101   \n",
      "2023-04-10  0.420301  0.433573  0.429434  0.417172             0.166715   \n",
      "2023-04-11  0.437201  0.439301  0.439607  0.441387             0.139548   \n",
      "2023-04-12  0.447341  0.423599  0.445563  0.427836             0.179866   \n",
      "2023-04-13  0.427850  0.437065  0.432917  0.429435             0.134230   \n",
      "\n",
      "            daily_trading_volume       UBB    BollMA       LBB      MA_5  \\\n",
      "date                                                                       \n",
      "2017-11-29              0.115420  0.208999  0.176513  0.332696  0.065602   \n",
      "2017-11-30              0.040548  0.206401  0.167466  0.317459  0.062775   \n",
      "2017-12-01              0.039553  0.132470  0.133314  0.425351  0.068013   \n",
      "2017-12-04              0.065702  0.125946  0.126574  0.425833  0.074401   \n",
      "2017-12-05              0.045549  0.124857  0.122521  0.418815  0.072888   \n",
      "...                          ...       ...       ...       ...       ...   \n",
      "2023-04-06              0.106769  0.161997  0.265860  0.670613  0.174622   \n",
      "2023-04-10              0.127451  0.149068  0.258613  0.686390  0.165277   \n",
      "2023-04-11              0.097628  0.142876  0.250971  0.683830  0.147374   \n",
      "2023-04-12              0.136608  0.143972  0.251932  0.683333  0.155295   \n",
      "2023-04-13              0.094420  0.142599  0.247075  0.675097  0.148320   \n",
      "\n",
      "               MA_25      MACD     sig_9    RSI_14    BollW   precent_B  \\\n",
      "date                                                                      \n",
      "2017-11-29  0.174468  0.261214  0.351142  0.388797  0.566257   0.415493   \n",
      "2017-11-30  0.166610  0.243982  0.341891  0.239253  0.595675   0.238222   \n",
      "2017-12-01  0.165257  0.230145  0.330558  0.237342  0.368644   0.218670   \n",
      "2017-12-04  0.163137  0.231962  0.322008  0.292743  0.362864   0.332195   \n",
      "2017-12-05  0.163864  0.224127  0.312942  0.249456  0.375594   0.256471   \n",
      "...              ...       ...       ...       ...       ...        ...   \n",
      "2023-04-06  0.285924  0.200046  0.227144  0.178353  0.073982   0.248091   \n",
      "2023-04-10  0.284438  0.207751  0.232397  0.271826  0.041950   0.397306   \n",
      "2023-04-11  0.282916  0.200233  0.234463  0.151252  0.035793   0.198063   \n",
      "2023-04-12  0.283179  0.213409  0.239860  0.317666  0.037809   0.486003   \n",
      "2023-04-13  0.278368  0.204264  0.241579  0.158628  0.043854   0.190119   \n",
      "\n",
      "                BIAS     ROC_1  golden_cross  death_cross  \n",
      "date                                                       \n",
      "2017-11-29  0.270833  0.239417           0.0          0.0  \n",
      "2017-11-30  0.102359  0.037262           0.0          0.0  \n",
      "2017-12-01  0.100745  0.114978           0.0          0.0  \n",
      "2017-12-04  0.164420  0.174078           0.0          0.0  \n",
      "2017-12-05  0.115812  0.084821           0.0          0.0  \n",
      "...              ...       ...           ...          ...  \n",
      "2023-04-06  0.168237  0.105246           1.0          0.0  \n",
      "2023-04-10  0.204679  0.140538           0.0          1.0  \n",
      "2023-04-11  0.154110  0.087691           0.0          0.0  \n",
      "2023-04-12  0.221302  0.164345           0.0          0.0  \n",
      "2023-04-13  0.150910  0.077734           0.0          0.0  \n",
      "\n",
      "[1351 rows x 20 columns]>\n"
     ]
    }
   ],
   "source": [
    "data = data.apply(lambda x: (x - np.min(x)) / (np.max(x) - np.min(x)))\n",
    "print(data.head)"
   ]
  },
  {
   "cell_type": "markdown",
   "id": "39c08a94",
   "metadata": {},
   "source": [
    "## 2.Feature Engineering"
   ]
  },
  {
   "cell_type": "markdown",
   "id": "4601256e",
   "metadata": {},
   "source": [
    "### PCA "
   ]
  },
  {
   "cell_type": "markdown",
   "id": "b201212e",
   "metadata": {},
   "source": [
    "## 3. Build Model\n",
    "\n",
    "### 3.0 hyperparameter tuning"
   ]
  },
  {
   "cell_type": "markdown",
   "id": "3db390a0",
   "metadata": {},
   "source": [
    "### 3.1 Attention-based LSTM model （实验组）\n",
    "structure: data -> LSTM layer -> Attention layer -> Dense layer -> prediction"
   ]
  },
  {
   "cell_type": "markdown",
   "id": "321e0785",
   "metadata": {},
   "source": [
    "### 3.2 Convolutional layer & MLP  （实验组）"
   ]
  },
  {
   "cell_type": "markdown",
   "id": "eecf1461",
   "metadata": {},
   "source": [
    "### 3.3 Simple LSTM （对照组1）"
   ]
  },
  {
   "cell_type": "markdown",
   "id": "019e923d",
   "metadata": {},
   "source": [
    "### 3.4 ARIMA model（对照组2）"
   ]
  },
  {
   "cell_type": "markdown",
   "id": "dd9db3ff",
   "metadata": {},
   "source": [
    "## 4. Model Evaluation\n",
    "\n",
    "### 4.1 MSE, scores\n",
    "### 4.2 Back-testing"
   ]
  }
 ],
 "metadata": {
  "kernelspec": {
   "display_name": "Python 3",
   "language": "python",
   "name": "python3"
  },
  "language_info": {
   "codemirror_mode": {
    "name": "ipython",
    "version": 3
   },
   "file_extension": ".py",
   "mimetype": "text/x-python",
   "name": "python",
   "nbconvert_exporter": "python",
   "pygments_lexer": "ipython3",
   "version": "3.8.8"
  }
 },
 "nbformat": 4,
 "nbformat_minor": 5
}
